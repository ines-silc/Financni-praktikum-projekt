{
 "cells": [
  {
   "cell_type": "code",
   "execution_count": 1,
   "metadata": {},
   "outputs": [],
   "source": [
    "import time #Za primerjavo časovne zahtevnosti\n",
    "import networkx as nx #Za definiranje grafov\n",
    "import matplotlib.pyplot as mpl #Za risanje grafov\n",
    "import itertools #Za urejanje seznamov z nabori\n",
    "import random\n",
    "import program as pr\n",
    "import testni_graf as tg\n",
    "import tri_opt as pr2\n",
    "import LK_algoritem as lk"
   ]
  },
  {
   "cell_type": "code",
   "execution_count": 2,
   "metadata": {},
   "outputs": [
    {
     "name": "stdout",
     "output_type": "stream",
     "text": [
      "n je 80\n",
      "Prvotna pot je [0, 1, 2, 3, 4, 5, 6, 7, 8, 9, 10, 11, 12, 13, 14, 15, 16, 17, 18, 19, 20, 21, 22, 23, 24, 25, 26, 27, 28, 29, 30, 31, 32, 33, 34, 35, 36, 37, 38, 39, 40, 41, 42, 43, 44, 45, 46, 47, 48, 49, 50, 51, 52, 53, 54, 55, 56, 57, 58, 59, 60, 61, 62, 63, 64, 65, 66, 67, 68, 69, 70, 71, 72, 73, 74, 75, 76, 77, 78, 79, 0]\n",
      "Cena prvotne poti je 37169\n"
     ]
    },
    {
     "name": "stderr",
     "output_type": "stream",
     "text": [
      "c:\\users\\ines šilc\\appdata\\local\\programs\\python\\python37\\lib\\site-packages\\ipykernel_launcher.py:17: DeprecationWarning: time.clock has been deprecated in Python 3.3 and will be removed from Python 3.8: use time.perf_counter or time.process_time instead\n",
      "c:\\users\\ines šilc\\appdata\\local\\programs\\python\\python37\\lib\\site-packages\\ipykernel_launcher.py:19: DeprecationWarning: time.clock has been deprecated in Python 3.3 and will be removed from Python 3.8: use time.perf_counter or time.process_time instead\n",
      "c:\\users\\ines šilc\\appdata\\local\\programs\\python\\python37\\lib\\site-packages\\ipykernel_launcher.py:25: DeprecationWarning: time.clock has been deprecated in Python 3.3 and will be removed from Python 3.8: use time.perf_counter or time.process_time instead\n"
     ]
    },
    {
     "name": "stdout",
     "output_type": "stream",
     "text": [
      "Čas delovanja: 4.979255600000002   dolzina poti: 3352\n"
     ]
    },
    {
     "name": "stderr",
     "output_type": "stream",
     "text": [
      "c:\\users\\ines šilc\\appdata\\local\\programs\\python\\python37\\lib\\site-packages\\ipykernel_launcher.py:27: DeprecationWarning: time.clock has been deprecated in Python 3.3 and will be removed from Python 3.8: use time.perf_counter or time.process_time instead\n",
      "c:\\users\\ines šilc\\appdata\\local\\programs\\python\\python37\\lib\\site-packages\\ipykernel_launcher.py:33: DeprecationWarning: time.clock has been deprecated in Python 3.3 and will be removed from Python 3.8: use time.perf_counter or time.process_time instead\n"
     ]
    },
    {
     "name": "stdout",
     "output_type": "stream",
     "text": [
      "Čas delovanja: 0.5348379999999935   dolzina poti: 2890\n",
      "Čas delovanja: 1.3860307000000063   dolzina poti: 2362\n"
     ]
    },
    {
     "name": "stderr",
     "output_type": "stream",
     "text": [
      "c:\\users\\ines šilc\\appdata\\local\\programs\\python\\python37\\lib\\site-packages\\ipykernel_launcher.py:35: DeprecationWarning: time.clock has been deprecated in Python 3.3 and will be removed from Python 3.8: use time.perf_counter or time.process_time instead\n"
     ]
    }
   ],
   "source": [
    "n = 80\n",
    "print('n je', n)\n",
    "\n",
    "\n",
    "matrika = [[0 for col in range(n)] for row in range(n)]\n",
    "random.seed(525600)\n",
    "for i in range(n):\n",
    "    for j in range(i+1, n):\n",
    "        a = random.randint(1, 1000)\n",
    "        matrika[i][j] = a\n",
    "        matrika[j][i] = a\n",
    "        \n",
    "prvotna_pot = list(range(n))\n",
    "izhodisce = prvotna_pot[0]\n",
    "prvotna_pot.append(izhodisce)\n",
    "\n",
    "zacetni_cas = time.clock()\n",
    "resitevopt2 = pr.dva_opt(matrika, prvotna_pot)\n",
    "koncni_cas = time.clock()\n",
    "cas = koncni_cas - zacetni_cas\n",
    "print('Čas delovanja:', cas, '  dolzina poti:', pr.cena_poti(matrika, resitevopt2[0]))\n",
    "\n",
    "prvotna_pot = list(range(n))\n",
    "\n",
    "zacetni_cas = time.clock()\n",
    "pot = pr2.tri_opt(matrika, prvotna_pot)\n",
    "koncni_cas = time.clock()\n",
    "cas = koncni_cas - zacetni_cas\n",
    "cikel = pot\n",
    "cikel.append(pot[0])\n",
    "print('Čas delovanja:', cas, '  dolzina poti:', pr.cena_poti(matrika, cikel))\n",
    "\n",
    "zacetni_cas = time.clock()\n",
    "primer_lk = lk.Lin_Kernighan(matrika, prvotna_pot)\n",
    "koncni_cas = time.clock()\n",
    "cas = koncni_cas - zacetni_cas\n",
    "cikel = primer_lk\n",
    "cikel.append(cikel[0])\n",
    "print('Čas delovanja:', cas, '  dolzina poti:', pr.cena_poti(matrika, cikel))"
   ]
  },
  {
   "cell_type": "code",
   "execution_count": null,
   "metadata": {},
   "outputs": [],
   "source": []
  }
 ],
 "metadata": {
  "kernelspec": {
   "display_name": "Python 3",
   "language": "python",
   "name": "python3"
  },
  "language_info": {
   "codemirror_mode": {
    "name": "ipython",
    "version": 3
   },
   "file_extension": ".py",
   "mimetype": "text/x-python",
   "name": "python",
   "nbconvert_exporter": "python",
   "pygments_lexer": "ipython3",
   "version": "3.7.1"
  }
 },
 "nbformat": 4,
 "nbformat_minor": 2
}
